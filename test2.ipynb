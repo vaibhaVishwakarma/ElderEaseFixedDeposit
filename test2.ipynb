{
 "cells": [
  {
   "cell_type": "code",
   "execution_count": 6,
   "id": "97879ecc",
   "metadata": {},
   "outputs": [],
   "source": [
    "from LLM_query_resolver import QueryResponder"
   ]
  },
  {
   "cell_type": "code",
   "execution_count": 7,
   "id": "76e5035a",
   "metadata": {},
   "outputs": [],
   "source": [
    "obj = QueryResponder()"
   ]
  },
  {
   "cell_type": "code",
   "execution_count": 8,
   "id": "4711be82",
   "metadata": {},
   "outputs": [
    {
     "name": "stdout",
     "output_type": "stream",
     "text": [
      "<Response [404]>\n"
     ]
    },
    {
     "data": {
      "text/plain": [
       "'Error Connecting.'"
      ]
     },
     "execution_count": 8,
     "metadata": {},
     "output_type": "execute_result"
    }
   ],
   "source": [
    "obj.get_llm_response(\"Hello how are you\" , \"\")"
   ]
  },
  {
   "cell_type": "code",
   "execution_count": null,
   "id": "ab12d277",
   "metadata": {},
   "outputs": [],
   "source": []
  }
 ],
 "metadata": {
  "kernelspec": {
   "display_name": "fixedDeposit",
   "language": "python",
   "name": "python3"
  },
  "language_info": {
   "codemirror_mode": {
    "name": "ipython",
    "version": 3
   },
   "file_extension": ".py",
   "mimetype": "text/x-python",
   "name": "python",
   "nbconvert_exporter": "python",
   "pygments_lexer": "ipython3",
   "version": "3.12.11"
  }
 },
 "nbformat": 4,
 "nbformat_minor": 5
}
